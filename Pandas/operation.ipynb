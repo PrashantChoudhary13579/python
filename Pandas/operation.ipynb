{
 "cells": [
  {
   "cell_type": "markdown",
   "metadata": {},
   "source": [
    "Code1"
   ]
  },
  {
   "cell_type": "code",
   "execution_count": 4,
   "metadata": {},
   "outputs": [
    {
     "name": "stdout",
     "output_type": "stream",
     "text": [
      "Befor conversion \n",
      " model     object\n",
      "mpg      float64\n",
      "cyl        int64\n",
      "disp     float64\n",
      "hp         int64\n",
      "drat     float64\n",
      "wt       float64\n",
      "qsec     float64\n",
      "vs         int64\n",
      "am         int64\n",
      "gear       int64\n",
      "carb       int64\n",
      "dtype: object \n",
      "\n",
      "After conversion \n",
      " model     object\n",
      "mpg      float64\n",
      "cyl        int64\n",
      "disp     float64\n",
      "hp        object\n",
      "drat     float64\n",
      "wt       float64\n",
      "qsec     float64\n",
      "vs         int64\n",
      "am         int64\n",
      "gear       int64\n",
      "carb       int64\n",
      "dtype: object \n",
      "\n"
     ]
    }
   ],
   "source": [
    "import pandas as pd\n",
    "data = pd.read_csv(\"mtcars.csv\")\n",
    "\n",
    "data.dropna(inplace = True)\n",
    "# it will drop the null value columns \n",
    "before = data.dtypes\n",
    "\n",
    "\n",
    "# converting dtypes using astype\n",
    "data[\"hp\"] = data[\"hp\"].astype(int)\n",
    "data[\"hp\"] = data[\"hp\"].astype(str)\n",
    "\n",
    "# storing dtype after converting\n",
    "after = data.dtypes\n",
    "\n",
    "print(\"Befor conversion \\n\",before,\"\\n\")\n",
    "print(\"After conversion \\n\",after,\"\\n\")"
   ]
  },
  {
   "cell_type": "markdown",
   "metadata": {},
   "source": [
    "### Code 2"
   ]
  },
  {
   "cell_type": "code",
   "execution_count": 5,
   "metadata": {},
   "outputs": [
    {
     "name": "stdout",
     "output_type": "stream",
     "text": [
      "Data type before converting = <class 'pandas.core.series.Series'>\n",
      " Data type after converting = <class 'list'>\n"
     ]
    },
    {
     "data": {
      "text/plain": [
       "[110,\n",
       " 110,\n",
       " 93,\n",
       " 110,\n",
       " 175,\n",
       " 105,\n",
       " 245,\n",
       " 62,\n",
       " 95,\n",
       " 123,\n",
       " 123,\n",
       " 180,\n",
       " 180,\n",
       " 180,\n",
       " 205,\n",
       " 215,\n",
       " 230,\n",
       " 66,\n",
       " 52,\n",
       " 65,\n",
       " 97,\n",
       " 150,\n",
       " 150,\n",
       " 245,\n",
       " 175,\n",
       " 66,\n",
       " 91,\n",
       " 113,\n",
       " 264,\n",
       " 175,\n",
       " 335,\n",
       " 109]"
      ]
     },
     "execution_count": 5,
     "metadata": {},
     "output_type": "execute_result"
    }
   ],
   "source": [
    "import pandas as pd\n",
    "import re\n",
    "\n",
    "data = pd.read_csv(\"mtcars.csv\")\n",
    "\n",
    "data.dropna(inplace = True)\n",
    "\n",
    "dtype_before = type(data[\"hp\"])\n",
    "hp_list = data[\"hp\"].tolist()\n",
    "\n",
    "dtype_after = type(hp_list)\n",
    "print(\"Data type before converting = {}\\n Data type after converting = {}\".format(dtype_before, dtype_after))\n",
    "\n",
    "# displaying the list\n",
    "hp_list"
   ]
  },
  {
   "cell_type": "markdown",
   "metadata": {},
   "source": []
  }
 ],
 "metadata": {
  "kernelspec": {
   "display_name": "Python 3",
   "language": "python",
   "name": "python3"
  },
  "language_info": {
   "codemirror_mode": {
    "name": "ipython",
    "version": 3
   },
   "file_extension": ".py",
   "mimetype": "text/x-python",
   "name": "python",
   "nbconvert_exporter": "python",
   "pygments_lexer": "ipython3",
   "version": "3.12.5"
  }
 },
 "nbformat": 4,
 "nbformat_minor": 2
}
