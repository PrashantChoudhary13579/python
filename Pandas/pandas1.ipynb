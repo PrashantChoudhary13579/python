{
 "cells": [
  {
   "cell_type": "markdown",
   "metadata": {},
   "source": [
    "# Introduction (DataFrame)"
   ]
  },
  {
   "cell_type": "markdown",
   "metadata": {},
   "source": [
    "Simple Program"
   ]
  },
  {
   "cell_type": "code",
   "execution_count": 1,
   "metadata": {},
   "outputs": [
    {
     "name": "stdout",
     "output_type": "stream",
     "text": [
      "    cars  Passings\n",
      "0    BMW         3\n",
      "1  Volvo         7\n",
      "2   Ford         2\n"
     ]
    }
   ],
   "source": [
    "import pandas as pd\n",
    "mydata = {\n",
    "    'cars' : ['BMW','Volvo','Ford'],\n",
    "    'Passings':[3,7,2]\n",
    "}\n",
    "mybar = pd.DataFrame(mydata)\n",
    "\n",
    "print(mybar)"
   ]
  },
  {
   "cell_type": "code",
   "execution_count": 2,
   "metadata": {},
   "outputs": [
    {
     "name": "stdout",
     "output_type": "stream",
     "text": [
      "2.2.3\n"
     ]
    }
   ],
   "source": [
    "import pandas as pd\n",
    "print(pd.__version__)"
   ]
  },
  {
   "cell_type": "markdown",
   "metadata": {},
   "source": [
    "Example 1: Simple Bar chart"
   ]
  },
  {
   "cell_type": "code",
   "execution_count": 5,
   "metadata": {},
   "outputs": [
    {
     "name": "stdout",
     "output_type": "stream",
     "text": [
      "Pandas Series Series([], dtype: object)\n",
      "Pandas Series 0    d\n",
      "1    s\n",
      "2    g\n",
      "3    r\n",
      "4    e\n",
      "dtype: object\n"
     ]
    }
   ],
   "source": [
    "import pandas as pd\n",
    "import numpy as np\n",
    "\n",
    "# creating an empty series\n",
    "\n",
    "ser = pd.Series()\n",
    "print(\"Pandas Series\",ser)\n",
    "\n",
    "data = np.array(['d','s','g','r','e'])\n",
    "ser = pd.Series(data)\n",
    "\n",
    "print(\"Pandas Series\",ser)\n",
    "\n"
   ]
  },
  {
   "cell_type": "markdown",
   "metadata": {},
   "source": [
    "Creating a dataframe using the pandas library\n"
   ]
  },
  {
   "cell_type": "code",
   "execution_count": 8,
   "metadata": {},
   "outputs": [
    {
     "name": "stdout",
     "output_type": "stream",
     "text": [
      "Empty DataFrame\n",
      "Columns: []\n",
      "Index: []\n",
      "           0\n",
      "0  Learning \n",
      "1     Python\n",
      "2    Library\n",
      "3         is\n",
      "4   creating\n",
      "5  interest \n"
     ]
    }
   ],
   "source": [
    "import pandas as pd\n",
    "\n",
    "df = pd.DataFrame()\n",
    "print(df)\n",
    "\n",
    "lst = ['Learning ', \"Python\",\"Library\",\"is\",\"creating\",\"interest \"]\n",
    "df = pd.DataFrame(lst)\n",
    "print(df)"
   ]
  },
  {
   "cell_type": "markdown",
   "metadata": {},
   "source": [
    "Creating  dataframe from dict of ndarray/list"
   ]
  },
  {
   "cell_type": "code",
   "execution_count": 10,
   "metadata": {},
   "outputs": [
    {
     "name": "stdout",
     "output_type": "stream",
     "text": [
      "      Name   Age Degree  Year \n",
      "0  Prashant   20  Btech   2023\n",
      "1    Deepak   24    Job   2020\n",
      "2    Anurag   16   9 th   2024\n",
      "3    Adhyay   12   6 th   2024\n",
      "4   Anshika   20    B.A   2023\n"
     ]
    }
   ],
   "source": [
    "import pandas as pd\n",
    "data = {\n",
    "    'Name ':['Prashant','Deepak','Anurag','Adhyay','Anshika'],\n",
    "    'Age':[20,24,16,12,20],\n",
    "    'Degree':['Btech','Job','9 th','6 th','B.A'],\n",
    "    'Year ':[2023,2020,2024,2024,2023],\n",
    "}\n",
    "df = pd.DataFrame(data)\n",
    "print(df)"
   ]
  }
 ],
 "metadata": {
  "kernelspec": {
   "display_name": "Python 3",
   "language": "python",
   "name": "python3"
  },
  "language_info": {
   "codemirror_mode": {
    "name": "ipython",
    "version": 3
   },
   "file_extension": ".py",
   "mimetype": "text/x-python",
   "name": "python",
   "nbconvert_exporter": "python",
   "pygments_lexer": "ipython3",
   "version": "3.12.5"
  }
 },
 "nbformat": 4,
 "nbformat_minor": 2
}
