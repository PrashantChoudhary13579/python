{
 "cells": [
  {
   "cell_type": "code",
   "execution_count": 6,
   "id": "2e692672-3950-45e7-bff2-479ce3aa2cfc",
   "metadata": {},
   "outputs": [
    {
     "name": "stdout",
     "output_type": "stream",
     "text": [
      "Hello, my name is Prashant\n"
     ]
    }
   ],
   "source": [
    "class Person:\n",
    "    def __init__(self,name):\n",
    "        self.name = name\n",
    "    def say_hi (self):\n",
    "        print(\"Hello, my name is\" , self.name)\n",
    "p = Person(\"Prashant\").say_hi()\n"
   ]
  },
  {
   "cell_type": "code",
   "execution_count": 7,
   "id": "4895d290-65f8-4d01-9aee-49a79633fbd1",
   "metadata": {},
   "outputs": [
    {
     "name": "stdout",
     "output_type": "stream",
     "text": [
      "Hello, my name is Anshika\n"
     ]
    }
   ],
   "source": [
    "p = Person(\"Anshika\").say_hi()"
   ]
  },
  {
   "cell_type": "code",
   "execution_count": 11,
   "id": "56a0d4ce-9708-4bd3-b370-51c7bc2212d5",
   "metadata": {},
   "outputs": [
    {
     "name": "stdout",
     "output_type": "stream",
     "text": [
      "(Initializing R2-D2)\n",
      "Greeting, My master call me R2-D2.\n",
      "We have 1 robots.\n"
     ]
    }
   ],
   "source": [
    "class Robot:\n",
    "    \"\"\"Represents a robot, with a name.\"\"\"\n",
    "    population = 0\n",
    "    def __init__(self,name):\n",
    "        self.name = name \n",
    "        print(\"(Initializing {})\".format(self.name))\n",
    "        Robot.population += 1\n",
    "\n",
    "    def die(self):\n",
    "        # I am dying.\n",
    "        print(\"{} is destroyed!\".format(self.name))\n",
    "        Robot.population -= 1\n",
    "        \n",
    "        if Robot.population == 0:\n",
    "            print(\"{} was the last one.\".format(self.name))\n",
    "        else:\n",
    "            print(\"There are still {:d} robots working.\".format(Robot.population))\n",
    "    def say_hi (self):\n",
    "        print(\"Greeting, My master call me {}.\".format(self.name))\n",
    "\n",
    "    @classmethod\n",
    "    def how_many(cls):\n",
    "        print(\"We have {:d} robots.\".format(cls.population))\n",
    "\n",
    "droid1 = Robot(\"R2-D2\")\n",
    "droid1.say_hi()\n",
    "Robot.how_many()"
   ]
  },
  {
   "cell_type": "code",
   "execution_count": 15,
   "id": "3eb84ccf-3d17-484c-915c-5d8d02d141cf",
   "metadata": {},
   "outputs": [
    {
     "name": "stdout",
     "output_type": "stream",
     "text": [
      "(Initializing C-2PO)\n",
      "Greeting, My master call me C-2PO.\n",
      "We have 5 robots.\n",
      "(Initializing Y5-PC)\n",
      "Greeting, My master call me Y5-PC.\n",
      "We have 6 robots.\n"
     ]
    }
   ],
   "source": [
    "droid2 = Robot(\"C-2PO\")\n",
    "droid2.say_hi()\n",
    "droid2.how_many()\n",
    "droid2 = Robot(\"Y5-PC\")\n",
    "droid2.say_hi()\n",
    "droid2.how_many()"
   ]
  },
  {
   "cell_type": "raw",
   "id": "3f97c6fa-7f4d-40fe-8dbb-1751b3774da8",
   "metadata": {},
   "source": [
    "droid2 = Robot(\"Y5-PC\")\n",
    "droid2.say_hi()\n",
    "droid2.how_many()"
   ]
  },
  {
   "cell_type": "code",
   "execution_count": 16,
   "id": "e758d144-7139-4ff6-a19e-17564caf722b",
   "metadata": {},
   "outputs": [
    {
     "name": "stdout",
     "output_type": "stream",
     "text": [
      "R2-D2 is destroyed!\n",
      "There are still 5 robots working.\n"
     ]
    }
   ],
   "source": [
    "droid1.die()"
   ]
  },
  {
   "cell_type": "code",
   "execution_count": 19,
   "id": "3f1d065b-3549-46f9-b729-083c67f17a07",
   "metadata": {},
   "outputs": [
    {
     "name": "stdout",
     "output_type": "stream",
     "text": [
      "Y5-PC is destroyed!\n",
      "There are still 4 robots working.\n",
      "Y5-PC is destroyed!\n",
      "There are still 3 robots working.\n",
      "Y5-PC is destroyed!\n",
      "There are still 2 robots working.\n"
     ]
    }
   ],
   "source": [
    "droid2.die()\n",
    "droid2.die()\n",
    "droid2.die()"
   ]
  },
  {
   "cell_type": "code",
   "execution_count": 20,
   "id": "146d1741-5819-4492-8faa-6f726d0d1fe1",
   "metadata": {},
   "outputs": [
    {
     "name": "stdout",
     "output_type": "stream",
     "text": [
      "Y5-PC is destroyed!\n",
      "There are still 1 robots working.\n"
     ]
    }
   ],
   "source": [
    "droid2.die()"
   ]
  },
  {
   "cell_type": "code",
   "execution_count": null,
   "id": "3ee64b32-f3f7-42dd-91a4-c09682b6eb5f",
   "metadata": {},
   "outputs": [],
   "source": []
  }
 ],
 "metadata": {
  "kernelspec": {
   "display_name": "Python 3 (ipykernel)",
   "language": "python",
   "name": "python3"
  },
  "language_info": {
   "codemirror_mode": {
    "name": "ipython",
    "version": 3
   },
   "file_extension": ".py",
   "mimetype": "text/x-python",
   "name": "python",
   "nbconvert_exporter": "python",
   "pygments_lexer": "ipython3",
   "version": "3.12.5"
  }
 },
 "nbformat": 4,
 "nbformat_minor": 5
}
