{
 "cells": [
  {
   "cell_type": "code",
   "execution_count": 1,
   "id": "1dfc7da2-5876-4293-9a54-c5ff52cff7d3",
   "metadata": {},
   "outputs": [
    {
     "name": "stdout",
     "output_type": "stream",
     "text": [
      "Prashant Choudhary .......\n"
     ]
    }
   ],
   "source": [
    "print(\"Prashant Choudhary .......\")"
   ]
  },
  {
   "cell_type": "code",
   "execution_count": 2,
   "id": "f3aca7ff-8a45-4f19-9ffa-31285319f862",
   "metadata": {},
   "outputs": [
    {
     "name": "stdout",
     "output_type": "stream",
     "text": [
      "6\n"
     ]
    }
   ],
   "source": [
    "print(3+3)"
   ]
  },
  {
   "cell_type": "code",
   "execution_count": 4,
   "id": "2f69a6e4-4815-455c-9f58-134aa4015ac1",
   "metadata": {},
   "outputs": [
    {
     "name": "stdout",
     "output_type": "stream",
     "text": [
      "12\n"
     ]
    }
   ],
   "source": [
    "print(4*3)"
   ]
  },
  {
   "cell_type": "markdown",
   "id": "59430eba-472b-44a7-b574-b3148b3c77cd",
   "metadata": {},
   "source": [
    "# This is quote"
   ]
  },
  {
   "cell_type": "markdown",
   "id": "0fba4cc0-61e5-4772-89ec-289a636ce518",
   "metadata": {},
   "source": [
    "# "
   ]
  },
  {
   "cell_type": "code",
   "execution_count": null,
   "id": "0aac9c44-be32-4a5b-baf1-7148abb9fb75",
   "metadata": {},
   "outputs": [],
   "source": []
  }
 ],
 "metadata": {
  "kernelspec": {
   "display_name": "Python 3 (ipykernel)",
   "language": "python",
   "name": "python3"
  },
  "language_info": {
   "codemirror_mode": {
    "name": "ipython",
    "version": 3
   },
   "file_extension": ".py",
   "mimetype": "text/x-python",
   "name": "python",
   "nbconvert_exporter": "python",
   "pygments_lexer": "ipython3",
   "version": "3.12.4"
  }
 },
 "nbformat": 4,
 "nbformat_minor": 5
}
