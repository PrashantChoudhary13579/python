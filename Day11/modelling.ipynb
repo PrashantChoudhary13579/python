{
 "cells": [
  {
   "cell_type": "markdown",
   "id": "e5c6454a-9646-4711-804c-cf6ae4c5391e",
   "metadata": {},
   "source": [
    "# This is heading"
   ]
  },
  {
   "cell_type": "code",
   "execution_count": null,
   "id": "3c0ab546-90c7-4831-bd98-2690a5bce356",
   "metadata": {},
   "outputs": [],
   "source": []
  },
  {
   "cell_type": "code",
   "execution_count": null,
   "id": "18bd5204-41f5-4cf5-8bbc-2e00f4f9d1f7",
   "metadata": {},
   "outputs": [],
   "source": [
    "## This is money_model.ipynb"
   ]
  },
  {
   "cell_type": "code",
   "execution_count": 19,
   "id": "38c973fd-01d7-4665-a618-4cf9779cd476",
   "metadata": {},
   "outputs": [],
   "source": [
    "import mesa \n",
    "import seaborn as sns\n",
    "import numpy as np\n",
    "import pandas as pd\n",
    "\n",
    "class MoneyAgent (mesa.Agent):\n",
    "    def __init__(self, model):\n",
    "        super().__init__(model)\n",
    "        self.wealth = 1\n",
    "    def say_hi (self):\n",
    "        print(f\"Hi, I am an agent, you can call me {str(self.unique_id)}. \")\n",
    "        \n",
    "class MoneyModel(mesa.Model):\n",
    "    def __init__(self, n, seed=42):\n",
    "        super().__init__(seed=seed)\n",
    "        self.num_agents = n\n",
    "        # creating agents.\n",
    "        MoneyAgent.create_agents(model=self,n=n)\n",
    "    def step(self):\n",
    "        self.agents.do(\"say_hi\")"
   ]
  },
  {
   "cell_type": "code",
   "execution_count": 3,
   "id": "aa62f1c2-a73b-40d8-985f-15a64bfe8f24",
   "metadata": {},
   "outputs": [
    {
     "ename": "ModuleNotFoundError",
     "evalue": "No module named 'money_model'",
     "output_type": "error",
     "traceback": [
      "\u001b[1;31m---------------------------------------------------------------------------\u001b[0m",
      "\u001b[1;31mModuleNotFoundError\u001b[0m                       Traceback (most recent call last)",
      "Cell \u001b[1;32mIn[3], line 1\u001b[0m\n\u001b[1;32m----> 1\u001b[0m \u001b[38;5;28;01mfrom\u001b[39;00m \u001b[38;5;21;01mmoney_model\u001b[39;00m \u001b[38;5;28;01mimport\u001b[39;00m MoneyModel\n\u001b[0;32m      3\u001b[0m starter_model \u001b[38;5;241m=\u001b[39m MoneyModel(\u001b[38;5;241m10\u001b[39m)\n\u001b[0;32m      4\u001b[0m starter_model\u001b[38;5;241m.\u001b[39mstep()\n",
      "\u001b[1;31mModuleNotFoundError\u001b[0m: No module named 'money_model'"
     ]
    }
   ],
   "source": [
    "from money_model import MoneyModel\n",
    "\n",
    "starter_model = MoneyModel(10)\n",
    "starter_model.step()\n"
   ]
  },
  {
   "cell_type": "code",
   "execution_count": 20,
   "id": "3a0e981d-e90b-4dcc-8197-8de3e375b602",
   "metadata": {},
   "outputs": [
    {
     "name": "stdout",
     "output_type": "stream",
     "text": [
      "Hi, I am an agent, you can call me 1. \n",
      "Hi, I am an agent, you can call me 2. \n",
      "Hi, I am an agent, you can call me 3. \n",
      "Hi, I am an agent, you can call me 4. \n",
      "Hi, I am an agent, you can call me 5. \n",
      "Hi, I am an agent, you can call me 6. \n",
      "Hi, I am an agent, you can call me 7. \n",
      "Hi, I am an agent, you can call me 8. \n",
      "Hi, I am an agent, you can call me 9. \n",
      "Hi, I am an agent, you can call me 10. \n"
     ]
    }
   ],
   "source": [
    "starter_model = MoneyModel(10)\n",
    "starter_model.step()"
   ]
  },
  {
   "cell_type": "code",
   "execution_count": 21,
   "id": "cf9c6d50-ba4f-4708-8467-3a480681ca14",
   "metadata": {},
   "outputs": [
    {
     "name": "stdout",
     "output_type": "stream",
     "text": [
      "Hi, I am an agent, you can call me 1. \n",
      "Hi, I am an agent, you can call me 2. \n",
      "Hi, I am an agent, you can call me 3. \n",
      "Hi, I am an agent, you can call me 4. \n",
      "Hi, I am an agent, you can call me 5. \n",
      "Hi, I am an agent, you can call me 6. \n",
      "Hi, I am an agent, you can call me 7. \n",
      "Hi, I am an agent, you can call me 8. \n",
      "Hi, I am an agent, you can call me 9. \n",
      "Hi, I am an agent, you can call me 10. \n"
     ]
    }
   ],
   "source": [
    "starter_model.step()"
   ]
  },
  {
   "cell_type": "code",
   "execution_count": 22,
   "id": "ff35068e-e997-4e6d-99cf-fd56db50830d",
   "metadata": {},
   "outputs": [
    {
     "name": "stdout",
     "output_type": "stream",
     "text": [
      "Hi, I am an agent, you can call me 1. \n",
      "Hi, I am an agent, you can call me 2. \n",
      "Hi, I am an agent, you can call me 3. \n",
      "Hi, I am an agent, you can call me 4. \n",
      "Hi, I am an agent, you can call me 5. \n",
      "Hi, I am an agent, you can call me 6. \n",
      "Hi, I am an agent, you can call me 7. \n",
      "Hi, I am an agent, you can call me 8. \n",
      "Hi, I am an agent, you can call me 9. \n",
      "Hi, I am an agent, you can call me 10. \n"
     ]
    }
   ],
   "source": [
    "starter_model.step()"
   ]
  },
  {
   "cell_type": "code",
   "execution_count": 38,
   "id": "674096a9-d2a9-48c5-bc36-1624cf5aec79",
   "metadata": {},
   "outputs": [],
   "source": [
    "class MoneyAgent(mesa.Agent):\n",
    "    def __init__(self,model):\n",
    "        super().__init__(model)\n",
    "        self.wealth = 1\n",
    "    def exchange(self):\n",
    "        if self.wealth > 0:\n",
    "            other_agent = self.random.choice(self.model.agents)\n",
    "            if other_agent is not None:\n",
    "                other_agent.wealth += 1\n",
    "                self.wealth -= 1\n",
    "class MoneyModel (mesa.Model):\n",
    "    # A model with some number of agents.\n",
    "    def __init__(self,n):\n",
    "        super().__init__()\n",
    "        self.num_agents = n\n",
    "        # creating the agents\n",
    "        MoneyAgent.create_agents(model = self, n=n)\n",
    "    \n",
    "    def step(self):\n",
    "        # Advance the model by one step\n",
    "        # This function psuedo- randomly reorders the list of agent objects and\n",
    "        # then iterates through calling the function passed in as the parameters \n",
    "        self.agents.shuffle_do(\"exchange\")"
   ]
  },
  {
   "cell_type": "code",
   "execution_count": 44,
   "id": "f0b05d68-efd7-49d6-bcb0-09ef3b029b21",
   "metadata": {},
   "outputs": [],
   "source": [
    "model = MoneyModel(10)\n",
    "# Tells the model to create 10 agents\n",
    "for _ in range(\n",
    "    10\n",
    "):\n",
    "    model.step()\n"
   ]
  },
  {
   "cell_type": "code",
   "execution_count": 45,
   "id": "1aa629e4-4e5f-4224-a097-8931227aae7d",
   "metadata": {},
   "outputs": [
    {
     "data": {
      "image/png": "[encoded data removed]",
      "text/plain": [
       "<Figure size 640x480 with 1 Axes>"
      ]
     },
     "metadata": {},
     "output_type": "display_data"
    }
   ],
   "source": [
    "agent_wealth = [a.wealth for a in model.agents]\n",
    "# creating a histogram with seaborn\n",
    "g = sns.histplot(agent_wealth,discrete = True)\n",
    "g.set(\n",
    "    title = \"Wealth distribution\", xlabel = \"WEALTH\", ylabel = \"number of agents\"\n",
    "); \n",
    "# The semicolon is just to avoid printing the object representation\n"
   ]
  },
  {
   "cell_type": "code",
   "execution_count": null,
   "id": "8b5e2b06-fd5b-47f7-aa94-39adb05d1ac0",
   "metadata": {},
   "outputs": [],
   "source": []
  }
 ],
 "metadata": {
  "kernelspec": {
   "display_name": "Python 3 (ipykernel)",
   "language": "python",
   "name": "python3"
  },
  "language_info": {
   "codemirror_mode": {
    "name": "ipython",
    "version": 3
   },
   "file_extension": ".py",
   "mimetype": "text/x-python",
   "name": "python",
   "nbconvert_exporter": "python",
   "pygments_lexer": "ipython3",
   "version": "3.12.5"
  }
 },
 "nbformat": 4,
 "nbformat_minor": 5
}
