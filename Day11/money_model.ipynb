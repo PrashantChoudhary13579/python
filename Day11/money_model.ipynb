{
 "cells": [
  {
   "cell_type": "code",
   "execution_count": 1,
   "id": "d718020e-6859-46ab-8cbe-1ff91358ec3d",
   "metadata": {},
   "outputs": [],
   "source": [
    "# Importing dependencies\n"
   ]
  },
  {
   "cell_type": "code",
   "execution_count": 2,
   "id": "7637286a-4eff-4f1f-baad-45123016ec5b",
   "metadata": {},
   "outputs": [],
   "source": [
    "import mesa \n",
    "import seaborn as sns\n",
    "import numpy as np\n",
    "import pandas as pd"
   ]
  },
  {
   "cell_type": "code",
   "execution_count": 9,
   "id": "e25cebd3-60b2-45f2-a452-f75d8bfbea3f",
   "metadata": {},
   "outputs": [],
   "source": [
    "class MoneyAgent(mesa.Agent):\n",
    "    # It has fixed initial wealth\n",
    "    def __init__(self,model):\n",
    "        super().__init__(model)\n",
    "        self.wealth = 1\n",
    "\n",
    "    def say_hi(self):\n",
    "        print(f\"Hi, I am an agent, you can call me {str(self.unique_id)}\")\n",
    "        \n",
    "class MoneyModel(mesa.Model):\n",
    "    # A model with some number of agents.\n",
    "    def __init__(self,n, seed= 42):\n",
    "        super().__init__(seed = seed)\n",
    "        self.num_agents = n\n",
    "\n",
    "        #creating agents\n",
    "        MoneyAgent.create_agents(model= self, n=n)\n",
    "\n",
    "    def step(self):\n",
    "        self.agents.shuffle_do(\"say_hi\")\n",
    "        "
   ]
  },
  {
   "cell_type": "code",
   "execution_count": 10,
   "id": "dd24f4c7-49d9-4a65-9375-251ddcbb0646",
   "metadata": {},
   "outputs": [
    {
     "name": "stdout",
     "output_type": "stream",
     "text": [
      "Hi, I am an agent, you can call me 8\n",
      "Hi, I am an agent, you can call me 4\n",
      "Hi, I am an agent, you can call me 3\n",
      "Hi, I am an agent, you can call me 9\n",
      "Hi, I am an agent, you can call me 6\n",
      "Hi, I am an agent, you can call me 7\n",
      "Hi, I am an agent, you can call me 10\n",
      "Hi, I am an agent, you can call me 5\n",
      "Hi, I am an agent, you can call me 1\n",
      "Hi, I am an agent, you can call me 2\n"
     ]
    }
   ],
   "source": [
    "model1 = MoneyModel(10)\n",
    "model1.step()\n"
   ]
  },
  {
   "cell_type": "code",
   "execution_count": 11,
   "id": "eacc7fa3-c821-44f8-b433-09c38e0d809d",
   "metadata": {},
   "outputs": [
    {
     "name": "stdout",
     "output_type": "stream",
     "text": [
      "Hi, I am an agent, you can call me 4\n",
      "Hi, I am an agent, you can call me 6\n",
      "Hi, I am an agent, you can call me 3\n",
      "Hi, I am an agent, you can call me 5\n",
      "Hi, I am an agent, you can call me 2\n",
      "Hi, I am an agent, you can call me 9\n",
      "Hi, I am an agent, you can call me 8\n",
      "Hi, I am an agent, you can call me 1\n",
      "Hi, I am an agent, you can call me 7\n",
      "Hi, I am an agent, you can call me 10\n"
     ]
    }
   ],
   "source": [
    "model1.step()\n"
   ]
  },
  {
   "cell_type": "code",
   "execution_count": 12,
   "id": "ce3d395b-1c3f-4a96-806a-9efc9ccf0b02",
   "metadata": {},
   "outputs": [
    {
     "name": "stdout",
     "output_type": "stream",
     "text": [
      "Hi, I am an agent, you can call me 8\n",
      "Hi, I am an agent, you can call me 6\n",
      "Hi, I am an agent, you can call me 1\n",
      "Hi, I am an agent, you can call me 3\n",
      "Hi, I am an agent, you can call me 5\n",
      "Hi, I am an agent, you can call me 10\n",
      "Hi, I am an agent, you can call me 2\n",
      "Hi, I am an agent, you can call me 7\n",
      "Hi, I am an agent, you can call me 4\n",
      "Hi, I am an agent, you can call me 9\n"
     ]
    }
   ],
   "source": [
    "model1.step()"
   ]
  },
  {
   "cell_type": "code",
   "execution_count": null,
   "id": "3d72e88a-dbfa-485d-b700-90c8bfbfdfa3",
   "metadata": {},
   "outputs": [],
   "source": []
  },
  {
   "cell_type": "code",
   "execution_count": null,
   "id": "c3eec42c-e3bb-4dc4-bcb5-5677ac85c5d0",
   "metadata": {},
   "outputs": [],
   "source": []
  }
 ],
 "metadata": {
  "kernelspec": {
   "display_name": "Python 3 (ipykernel)",
   "language": "python",
   "name": "python3"
  },
  "language_info": {
   "codemirror_mode": {
    "name": "ipython",
    "version": 3
   },
   "file_extension": ".py",
   "mimetype": "text/x-python",
   "name": "python",
   "nbconvert_exporter": "python",
   "pygments_lexer": "ipython3",
   "version": "3.12.5"
  }
 },
 "nbformat": 4,
 "nbformat_minor": 5
}
