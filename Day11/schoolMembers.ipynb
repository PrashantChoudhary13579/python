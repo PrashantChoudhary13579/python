{
 "cells": [
  {
   "cell_type": "code",
   "execution_count": 2,
   "id": "930275e6-01b3-4ee3-aa7e-1f2edb2545d9",
   "metadata": {},
   "outputs": [],
   "source": [
    "# Concept of OOPS"
   ]
  },
  {
   "cell_type": "code",
   "execution_count": 7,
   "id": "520f1888-7efe-41cf-9c0b-a7a15060de1e",
   "metadata": {},
   "outputs": [
    {
     "name": "stdout",
     "output_type": "stream",
     "text": [
      "(Initialized School Member: Mr. Nikhil Kapoor)\n",
      "(Intialized Teacher: Mr. Nikhil Kapoor)\n",
      "(Initialized School Member: Swaroop)\n",
      "(Initialized Student:Swaroop)\n",
      "\n"
     ]
    }
   ],
   "source": [
    "class SchoolMember:\n",
    "    # Represents any school member.\n",
    "    def __init__ (self,name,age):\n",
    "        self.name = name\n",
    "        self.age = age\n",
    "        print(\"(Initialized School Member: {})\".format(self.name))\n",
    "\n",
    "    def tell (self):\n",
    "        # Showing all the details\n",
    "        print(\"Name:'{}'  Age: '{}'\".format(self.name,self.age),end =\"\")\n",
    "class Teacher(SchoolMember):\n",
    "    # Represents a teacher.\n",
    "    def __init__(self,name,age,salary):\n",
    "        SchoolMember.__init__(self,name,age)\n",
    "        self.salary = salary\n",
    "        print(\"(Intialized Teacher: {})\".format(self.name))\n",
    "    def tell (self):\n",
    "        SchoolMember.tell(self)\n",
    "        print(\"Salary : {:d} \".format(self.salary))\n",
    "class Student(SchoolMember):\n",
    "    # Represent a student.\n",
    "    def __init__(self,name,age,marks):\n",
    "        SchoolMember.__init__(self, name,age)\n",
    "        self.marks = marks\n",
    "        print(\"(Initialized Student:{})\".format(self.name))\n",
    "    def tell (self):\n",
    "        SchoolMember.tell(self)\n",
    "        print(\"Marks: {:d}\".format(self.marks))\n",
    "\n",
    "t = Teacher('Mr. Nikhil Kapoor',51,120000)\n",
    "s = Student('Swaroop',25,95)\n",
    "print()\n"
   ]
  },
  {
   "cell_type": "markdown",
   "id": "54cb8b23-69b7-4ef7-95a7-6df946485d7e",
   "metadata": {},
   "source": []
  },
  {
   "cell_type": "code",
   "execution_count": 8,
   "id": "343d5463-7397-48c5-bf1d-94af7c000be5",
   "metadata": {},
   "outputs": [
    {
     "name": "stdout",
     "output_type": "stream",
     "text": [
      "Name:'Mr. Nikhil Kapoor'  Age: '51'Salary : 120000 \n",
      "Name:'Swaroop'  Age: '25'Marks: 95\n"
     ]
    }
   ],
   "source": [
    "members = [t,s]\n",
    "for member in members:\n",
    "    member.tell()\n",
    "    "
   ]
  },
  {
   "cell_type": "code",
   "execution_count": null,
   "id": "38ec0bc8-444a-4494-9724-af3dafde2f37",
   "metadata": {},
   "outputs": [],
   "source": [
    "class Employee:\n",
    "    def __init__(self,name,age):\n",
    "        self.name = name\n",
    "        self.age = age\n",
    "\n"
   ]
  }
 ],
 "metadata": {
  "kernelspec": {
   "display_name": "Python 3 (ipykernel)",
   "language": "python",
   "name": "python3"
  },
  "language_info": {
   "codemirror_mode": {
    "name": "ipython",
    "version": 3
   },
   "file_extension": ".py",
   "mimetype": "text/x-python",
   "name": "python",
   "nbconvert_exporter": "python",
   "pygments_lexer": "ipython3",
   "version": "3.12.5"
  }
 },
 "nbformat": 4,
 "nbformat_minor": 5
}
