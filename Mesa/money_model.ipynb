{
 "cells": [
  {
   "cell_type": "code",
   "execution_count": 1,
   "metadata": {},
   "outputs": [],
   "source": [
    "import mesa\n",
    "import seaborn as sns\n",
    "import numpy as np\n",
    "import pandas as pd\n",
    "\n",
    "class MoneyAgent(mesa.Agent):\n",
    "    \"\"\"An agent with fixed initial wealth.\"\"\"\n",
    "\n",
    "    def __init__(self, model):\n",
    "        # Pass the parameters to the parent class.\n",
    "        super().__init__(model)\n",
    "\n",
    "        # Create the agent's attribute and set the initial values.\n",
    "        self.wealth = 1\n",
    "\n",
    "    def say_hi(self):\n",
    "        # The agent's step will go here.\n",
    "        # For demonstration purposes we will print the agent's unique_id\n",
    "        print(f\"Hi, I am an agent, you can call me {str(self.unique_id)}.\")\n",
    "\n",
    "\n",
    "class MoneyModel(mesa.Model):\n",
    "    \"\"\"A model with some number of agents.\"\"\"\n",
    "\n",
    "    def __init__(self, n, seed=None):\n",
    "        super().__init__(seed=seed)\n",
    "        self.num_agents = n\n",
    "\n",
    "        # Create n agents\n",
    "        MoneyAgent.create_agents(model=self, n=n)\n",
    "\n",
    "    def step(self):\n",
    "        \"\"\"Advance the model by one step.\"\"\"\n",
    "\n",
    "        # This function psuedo-randomly reorders the list of agent objects and\n",
    "        # then iterates through calling the function passed in as the parameter\n",
    "        self.agents.shuffle_do(\"say_hi\")"
   ]
  },
  {
   "cell_type": "code",
   "execution_count": 2,
   "metadata": {},
   "outputs": [
    {
     "name": "stdout",
     "output_type": "stream",
     "text": [
      "Hi, I am an agent, you can call me 8.\n",
      "Hi, I am an agent, you can call me 4.\n",
      "Hi, I am an agent, you can call me 1.\n",
      "Hi, I am an agent, you can call me 5.\n",
      "Hi, I am an agent, you can call me 3.\n",
      "Hi, I am an agent, you can call me 9.\n",
      "Hi, I am an agent, you can call me 10.\n",
      "Hi, I am an agent, you can call me 2.\n",
      "Hi, I am an agent, you can call me 7.\n",
      "Hi, I am an agent, you can call me 6.\n"
     ]
    }
   ],
   "source": [
    "starter_model = MoneyModel(10)\n",
    "starter_model.step()\n"
   ]
  },
  {
   "cell_type": "code",
   "execution_count": 3,
   "metadata": {},
   "outputs": [],
   "source": [
    "import mesa\n",
    "import seaborn as sns\n",
    "import numpy as np\n",
    "import pandas as pd\n"
   ]
  },
  {
   "cell_type": "code",
   "execution_count": 4,
   "metadata": {},
   "outputs": [],
   "source": [
    "class MoneyAgent(mesa.Agent):\n",
    "    def __init__(self, model):\n",
    "        super().__init__(model)\n",
    "        self.money = 5\n",
    "    \n",
    "class MoneyModel (mesa.Model):\n",
    "    def __init__(self, n, seed = None):\n",
    "        super().__init__(seed = seed)\n",
    "        self.num_agents = n\n",
    "        # create agents \n",
    "        MoneyAgent.create_agents(model = self, n = n)\n",
    "        "
   ]
  },
  {
   "cell_type": "code",
   "execution_count": 5,
   "metadata": {},
   "outputs": [],
   "source": [
    "class MoneyModel(mesa.Model):\n",
    "    \"\"\"A model with some number of agents.\"\"\"\n",
    "\n",
    "    def __init__(self, n, width, height, seed=None):\n",
    "        super().__init__(seed=seed)\n",
    "        self.num_agents = n\n",
    "        self.grid = mesa.space.MultiGrid(width, height, True)\n",
    "\n",
    "        # Create agents\n",
    "        agents = MoneyAgent.create_agents(model=self, n=n)\n",
    "        # Create x and y positions for agents\n",
    "        x = self.rng.randint(0, self.grid.width, size=(n,))\n",
    "        y = self.rng.randint(0, self.grid.height, size=(n,))\n",
    "        for a, i, j in zip(agents, x, y):\n",
    "            # Add the agent to a random grid cell\n",
    "            self.grid.place_agent(a, (i, j))"
   ]
  },
  {
   "cell_type": "code",
   "execution_count": null,
   "metadata": {},
   "outputs": [],
   "source": []
  },
  {
   "cell_type": "code",
   "execution_count": null,
   "metadata": {},
   "outputs": [],
   "source": []
  }
 ],
 "metadata": {
  "kernelspec": {
   "display_name": "Python 3",
   "language": "python",
   "name": "python3"
  },
  "language_info": {
   "codemirror_mode": {
    "name": "ipython",
    "version": 3
   },
   "file_extension": ".py",
   "mimetype": "text/x-python",
   "name": "python",
   "nbconvert_exporter": "python",
   "pygments_lexer": "ipython3",
   "version": "3.12.5"
  }
 },
 "nbformat": 4,
 "nbformat_minor": 2
}
