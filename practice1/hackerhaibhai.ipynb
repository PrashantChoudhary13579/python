{
 "cells": [
  {
   "cell_type": "code",
   "execution_count": 6,
   "metadata": {},
   "outputs": [],
   "source": [
    "import matplotlib.pyplot as plt\n",
    "from wordcloud import WordCloud, STOPWORDS\n",
    "import numpy as np\n",
    "from PIL import Image\n",
    "\n"
   ]
  },
  {
   "cell_type": "code",
   "execution_count": 9,
   "metadata": {},
   "outputs": [
    {
     "ename": "AttributeError",
     "evalue": "'_io.TextIOWrapper' object has no attribute 'lower'",
     "output_type": "error",
     "traceback": [
      "\u001b[1;31m---------------------------------------------------------------------------\u001b[0m",
      "\u001b[1;31mAttributeError\u001b[0m                            Traceback (most recent call last)",
      "Cell \u001b[1;32mIn[9], line 7\u001b[0m\n\u001b[0;32m      5\u001b[0m     cloud\u001b[38;5;241m.\u001b[39mgenerate(string)\n\u001b[0;32m      6\u001b[0m     cloud\u001b[38;5;241m.\u001b[39mto_file(\u001b[38;5;124m\"\u001b[39m\u001b[38;5;124mhacker_wordcloud.png\u001b[39m\u001b[38;5;124m\"\u001b[39m)\n\u001b[1;32m----> 7\u001b[0m dataset \u001b[38;5;241m=\u001b[39m \u001b[43mdataset\u001b[49m\u001b[38;5;241;43m.\u001b[39;49m\u001b[43mlower\u001b[49m()\n\u001b[0;32m      8\u001b[0m create_word_cloud(dataset)\n",
      "\u001b[1;31mAttributeError\u001b[0m: '_io.TextIOWrapper' object has no attribute 'lower'"
     ]
    }
   ],
   "source": [
    "dataset = open(\"hacker_text_updated.txt\")\n",
    "def create_word_cloud(string):\n",
    "    maskArray = np.array(Image.opne(\"hacker.jpeg\"))\n",
    "    cloud = WordCloud(background_color = \"white\",max_words= 200, mask = maskArray, stopwords = set(STOPWORDS))\n",
    "    cloud.generate(string)\n",
    "    cloud.to_file(\"hacker_wordcloud.png\")\n",
    "dataset = dataset.lower()\n",
    "create_word_cloud(dataset)"
   ]
  },
  {
   "cell_type": "code",
   "execution_count": 10,
   "metadata": {},
   "outputs": [],
   "source": [
    "from wordcloud import WordCloud, STOPWORDS\n",
    "import numpy as np\n",
    "from PIL import Image\n",
    "\n",
    "# Open the file and read its content\n",
    "with open(\"hacker_text_updated.txt\", \"r\") as dataset:\n",
    "    content = dataset.read()\n",
    "\n",
    "def create_word_cloud(string):\n",
    "    # Load the mask image\n",
    "    maskArray = np.array(Image.open(\"hacker.jpeg\"))\n",
    "    \n",
    "    # Create the word cloud\n",
    "    cloud = WordCloud(\n",
    "        background_color=\"white\",\n",
    "        max_words=200,\n",
    "        mask=maskArray,\n",
    "        stopwords=set(STOPWORDS)\n",
    "    )\n",
    "    cloud.generate(string)\n",
    "    cloud.to_file(\"hacker_wordcloud.png\")\n",
    "\n",
    "# Convert the content to lowercase\n",
    "content = content.lower()\n",
    "\n",
    "# Generate the word cloud\n",
    "create_word_cloud(content)\n"
   ]
  },
  {
   "cell_type": "code",
   "execution_count": null,
   "metadata": {},
   "outputs": [],
   "source": []
  }
 ],
 "metadata": {
  "kernelspec": {
   "display_name": "Python 3",
   "language": "python",
   "name": "python3"
  },
  "language_info": {
   "codemirror_mode": {
    "name": "ipython",
    "version": 3
   },
   "file_extension": ".py",
   "mimetype": "text/x-python",
   "name": "python",
   "nbconvert_exporter": "python",
   "pygments_lexer": "ipython3",
   "version": "3.12.5"
  }
 },
 "nbformat": 4,
 "nbformat_minor": 2
}
